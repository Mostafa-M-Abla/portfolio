{
  "nbformat": 4,
  "nbformat_minor": 0,
  "metadata": {
    "colab": {
      "name": "Grammar Mistakes Detector.ipynb",
      "provenance": [],
      "collapsed_sections": []
    },
    "kernelspec": {
      "name": "python3",
      "display_name": "Python 3"
    },
    "accelerator": "GPU"
  },
  "cells": [
    {
      "cell_type": "markdown",
      "metadata": {
        "id": "Um_ubSdx4YQQ"
      },
      "source": [
        "# Grammar Mistakes Detector using BERT"
      ]
    },
    {
      "cell_type": "markdown",
      "metadata": {
        "id": "T2tHF-nt4fws"
      },
      "source": [
        "In this notebook a model is trained to detect if the given text has grammar mistakes. I made a web application that uses this model, fell free to play with it https://mostafa-portfolio.azurewebsites.net/  \r\n",
        "\r\n",
        "For training the model the \"Corpus of Linguistic Acceptability (CoLA)\" data set was used. The data set contains 9594 sentences which are labeled as grammatically correct or no.\r\n",
        "\r\n",
        "The BERT model is a powerful pretrained model developed by Google for NLP purposes. In this notebook we are adding an extra layer to the BERT model and training the whole model to detect grammar mistakes.\r\n"
      ]
    },
    {
      "cell_type": "markdown",
      "metadata": {
        "id": "wvXFgg_enrY2"
      },
      "source": [
        "\r\n",
        "To run this notebook you first need to load the data set into your Google drive, you can do that as follows:\r\n",
        "\r\n",
        "1- Downoad the \"Corpus of Linguistic Acceptability (CoLA)\" data set from here https://drive.google.com/drive/folders/12Uj3EycUF5zmCcBD30hv4baeHywqkGbK?usp=sharing\r\n",
        "\r\n",
        "2- Unzip the downloaded folder and add the folder inside it \"The_Corpus_of_Linguistic_Acceptability\" to your google drive\r\n",
        "\r\n",
        "3- In the notebook above select \"Runtime\" --> \"Change Runtime type\" --> And select \"GPU\" so you can train faster\r\n",
        "\r\n",
        "4- Run the notebook\r\n",
        "\r\n",
        "5- While exceuting cell26, the notebook will ask you to click on a link to validate your google drive so it can read the Dataset from there.\r\n",
        "\r\n",
        "\r\n",
        "That's it !!"
      ]
    },
    {
      "cell_type": "markdown",
      "metadata": {
        "id": "xiq6c_2N5uTv"
      },
      "source": [
        "# Install the hugging face library which contains the pre-trained BERT model "
      ]
    },
    {
      "cell_type": "code",
      "metadata": {
        "id": "l5wbd09dOzGM",
        "colab": {
          "base_uri": "https://localhost:8080/"
        },
        "outputId": "2b0daffd-77f3-4c8f-8d0a-6126fb0c7acc"
      },
      "source": [
        "!pip install pytorch_pretrained_bert pytorch-nlp pytorch-nlp"
      ],
      "execution_count": 1,
      "outputs": [
        {
          "output_type": "stream",
          "text": [
            "Collecting pytorch_pretrained_bert\n",
            "\u001b[?25l  Downloading https://files.pythonhosted.org/packages/d7/e0/c08d5553b89973d9a240605b9c12404bcf8227590de62bae27acbcfe076b/pytorch_pretrained_bert-0.6.2-py3-none-any.whl (123kB)\n",
            "\r\u001b[K     |██▋                             | 10kB 24.8MB/s eta 0:00:01\r\u001b[K     |█████▎                          | 20kB 31.2MB/s eta 0:00:01\r\u001b[K     |████████                        | 30kB 27.1MB/s eta 0:00:01\r\u001b[K     |██████████▋                     | 40kB 22.7MB/s eta 0:00:01\r\u001b[K     |█████████████▎                  | 51kB 21.6MB/s eta 0:00:01\r\u001b[K     |███████████████▉                | 61kB 16.8MB/s eta 0:00:01\r\u001b[K     |██████████████████▌             | 71kB 16.9MB/s eta 0:00:01\r\u001b[K     |█████████████████████▏          | 81kB 16.2MB/s eta 0:00:01\r\u001b[K     |███████████████████████▉        | 92kB 16.3MB/s eta 0:00:01\r\u001b[K     |██████████████████████████▌     | 102kB 14.3MB/s eta 0:00:01\r\u001b[K     |█████████████████████████████▏  | 112kB 14.3MB/s eta 0:00:01\r\u001b[K     |███████████████████████████████▊| 122kB 14.3MB/s eta 0:00:01\r\u001b[K     |████████████████████████████████| 133kB 14.3MB/s \n",
            "\u001b[?25hCollecting pytorch-nlp\n",
            "\u001b[?25l  Downloading https://files.pythonhosted.org/packages/4f/51/f0ee1efb75f7cc2e3065c5da1363d6be2eec79691b2821594f3f2329528c/pytorch_nlp-0.5.0-py3-none-any.whl (90kB)\n",
            "\r\u001b[K     |███▋                            | 10kB 27.4MB/s eta 0:00:01\r\u001b[K     |███████▎                        | 20kB 30.0MB/s eta 0:00:01\r\u001b[K     |███████████                     | 30kB 33.1MB/s eta 0:00:01\r\u001b[K     |██████████████▌                 | 40kB 36.4MB/s eta 0:00:01\r\u001b[K     |██████████████████▏             | 51kB 38.6MB/s eta 0:00:01\r\u001b[K     |█████████████████████▉          | 61kB 40.6MB/s eta 0:00:01\r\u001b[K     |█████████████████████████▌      | 71kB 41.0MB/s eta 0:00:01\r\u001b[K     |█████████████████████████████   | 81kB 41.7MB/s eta 0:00:01\r\u001b[K     |████████████████████████████████| 92kB 10.6MB/s \n",
            "\u001b[?25hRequirement already satisfied: tqdm in /usr/local/lib/python3.6/dist-packages (from pytorch_pretrained_bert) (4.41.1)\n",
            "Requirement already satisfied: torch>=0.4.1 in /usr/local/lib/python3.6/dist-packages (from pytorch_pretrained_bert) (1.7.0+cu101)\n",
            "Requirement already satisfied: regex in /usr/local/lib/python3.6/dist-packages (from pytorch_pretrained_bert) (2019.12.20)\n",
            "Requirement already satisfied: numpy in /usr/local/lib/python3.6/dist-packages (from pytorch_pretrained_bert) (1.19.5)\n",
            "Requirement already satisfied: requests in /usr/local/lib/python3.6/dist-packages (from pytorch_pretrained_bert) (2.23.0)\n",
            "Collecting boto3\n",
            "\u001b[?25l  Downloading https://files.pythonhosted.org/packages/ba/c9/e622d0161d9ffe7625cb8b4bdd3cc8d79b706333cbc8f108c0ea1a5af717/boto3-1.17.7-py2.py3-none-any.whl (130kB)\n",
            "\u001b[K     |████████████████████████████████| 133kB 53.9MB/s \n",
            "\u001b[?25hRequirement already satisfied: dataclasses in /usr/local/lib/python3.6/dist-packages (from torch>=0.4.1->pytorch_pretrained_bert) (0.8)\n",
            "Requirement already satisfied: future in /usr/local/lib/python3.6/dist-packages (from torch>=0.4.1->pytorch_pretrained_bert) (0.16.0)\n",
            "Requirement already satisfied: typing-extensions in /usr/local/lib/python3.6/dist-packages (from torch>=0.4.1->pytorch_pretrained_bert) (3.7.4.3)\n",
            "Requirement already satisfied: chardet<4,>=3.0.2 in /usr/local/lib/python3.6/dist-packages (from requests->pytorch_pretrained_bert) (3.0.4)\n",
            "Requirement already satisfied: urllib3!=1.25.0,!=1.25.1,<1.26,>=1.21.1 in /usr/local/lib/python3.6/dist-packages (from requests->pytorch_pretrained_bert) (1.24.3)\n",
            "Requirement already satisfied: idna<3,>=2.5 in /usr/local/lib/python3.6/dist-packages (from requests->pytorch_pretrained_bert) (2.10)\n",
            "Requirement already satisfied: certifi>=2017.4.17 in /usr/local/lib/python3.6/dist-packages (from requests->pytorch_pretrained_bert) (2020.12.5)\n",
            "Collecting jmespath<1.0.0,>=0.7.1\n",
            "  Downloading https://files.pythonhosted.org/packages/07/cb/5f001272b6faeb23c1c9e0acc04d48eaaf5c862c17709d20e3469c6e0139/jmespath-0.10.0-py2.py3-none-any.whl\n",
            "Collecting botocore<1.21.0,>=1.20.7\n",
            "\u001b[?25l  Downloading https://files.pythonhosted.org/packages/51/c3/af73e35f97ebbe0f4609bc2433ca06421305cc1eedef1009bd14354fb3af/botocore-1.20.7-py2.py3-none-any.whl (7.2MB)\n",
            "\u001b[K     |████████████████████████████████| 7.2MB 24.7MB/s \n",
            "\u001b[?25hCollecting s3transfer<0.4.0,>=0.3.0\n",
            "\u001b[?25l  Downloading https://files.pythonhosted.org/packages/ea/43/4b4a1b26eb03a429a4c37ca7fdf369d938bd60018fc194e94b8379b0c77c/s3transfer-0.3.4-py2.py3-none-any.whl (69kB)\n",
            "\u001b[K     |████████████████████████████████| 71kB 11.6MB/s \n",
            "\u001b[?25hRequirement already satisfied: python-dateutil<3.0.0,>=2.1 in /usr/local/lib/python3.6/dist-packages (from botocore<1.21.0,>=1.20.7->boto3->pytorch_pretrained_bert) (2.8.1)\n",
            "Requirement already satisfied: six>=1.5 in /usr/local/lib/python3.6/dist-packages (from python-dateutil<3.0.0,>=2.1->botocore<1.21.0,>=1.20.7->boto3->pytorch_pretrained_bert) (1.15.0)\n",
            "\u001b[31mERROR: botocore 1.20.7 has requirement urllib3<1.27,>=1.25.4, but you'll have urllib3 1.24.3 which is incompatible.\u001b[0m\n",
            "Installing collected packages: jmespath, botocore, s3transfer, boto3, pytorch-pretrained-bert, pytorch-nlp\n",
            "Successfully installed boto3-1.17.7 botocore-1.20.7 jmespath-0.10.0 pytorch-nlp-0.5.0 pytorch-pretrained-bert-0.6.2 s3transfer-0.3.4\n"
          ],
          "name": "stdout"
        }
      ]
    },
    {
      "cell_type": "markdown",
      "metadata": {
        "id": "JD67wXk5EwcY"
      },
      "source": [
        "# Import the required Libraries"
      ]
    },
    {
      "cell_type": "code",
      "metadata": {
        "id": "3JWzQmoeQJum"
      },
      "source": [
        "import io\r\n",
        "import torch\r\n",
        "import tensorflow as tf\r\n",
        "import pandas as pd\r\n",
        "import numpy as np\r\n",
        "import zipfile\r\n",
        "import math\r\n",
        "import matplotlib.pyplot as plt\r\n",
        "import seaborn as sns\r\n",
        "\r\n",
        "from pytorch_pretrained_bert import BertTokenizer, BertConfig, BertAdam, BertForSequenceClassification\r\n",
        "from sklearn.model_selection import train_test_split\r\n",
        "from torch.utils.data import SequentialSampler, RandomSampler, TensorDataset, DataLoader\r\n",
        "from keras.preprocessing.sequence import pad_sequences"
      ],
      "execution_count": 2,
      "outputs": []
    },
    {
      "cell_type": "markdown",
      "metadata": {
        "id": "gXiDEAFKKy_L"
      },
      "source": [
        "# Load The Dataset\r\n",
        "\r\n",
        "We first mount the google drive, so that we can use the data set from the GoogleDrive .\r\n",
        "\r\n",
        "There are 3 files for training, we upload the three files, and combine them in one pandas dataframe."
      ]
    },
    {
      "cell_type": "code",
      "metadata": {
        "id": "vrZBk3LG74yG",
        "colab": {
          "base_uri": "https://localhost:8080/"
        },
        "outputId": "c66b1083-4757-4f95-826c-362fe51cbf19"
      },
      "source": [
        "from google.colab import drive\r\n",
        "drive.mount('/content/drive')"
      ],
      "execution_count": 3,
      "outputs": [
        {
          "output_type": "stream",
          "text": [
            "Mounted at /content/drive\n"
          ],
          "name": "stdout"
        }
      ]
    },
    {
      "cell_type": "code",
      "metadata": {
        "id": "XBUInndQQJ2n"
      },
      "source": [
        "base_path     = '/content/drive/MyDrive/The_Corpus_of_Linguistic_Acceptability/raw/'\r\n",
        "files_to_read = ['in_domain_dev.tsv', 'in_domain_train.tsv', 'out_of_domain_dev.tsv']\r\n",
        "\r\n",
        "# list to store the three dataframes of the three files\r\n",
        "list_of_dataframes = []\r\n",
        "\r\n",
        "# Read the the three files of the data set\r\n",
        "for filename in files_to_read:\r\n",
        "    df_local = pd.read_csv((base_path + filename), delimiter='\\t', \r\n",
        "                           names=['sentence_source', 'label', 'label_notes', 'sentence'], index_col=None, header=0)\r\n",
        "    list_of_dataframes.append(df_local)\r\n",
        "\r\n",
        "# Concatinate the three dataframes in one dataframe\r\n",
        "df = pd.concat(list_of_dataframes, axis=0, ignore_index=True)"
      ],
      "execution_count": 4,
      "outputs": []
    },
    {
      "cell_type": "code",
      "metadata": {
        "id": "INTYBGShQJ5J",
        "colab": {
          "base_uri": "https://localhost:8080/"
        },
        "outputId": "73937446-a57b-4047-a104-cb6fd297bc30"
      },
      "source": [
        "print('df.shape: ', df.shape)\r\n",
        "no_of_sentences = df.shape[0]\r\n",
        "print('no_of_sentences in the data set: ', no_of_sentences)"
      ],
      "execution_count": 5,
      "outputs": [
        {
          "output_type": "stream",
          "text": [
            "df.shape:  (9591, 4)\n",
            "no_of_sentences in the data set:  9591\n"
          ],
          "name": "stdout"
        }
      ]
    },
    {
      "cell_type": "code",
      "metadata": {
        "id": "bjDSzoSvO7LI",
        "colab": {
          "base_uri": "https://localhost:8080/",
          "height": 195
        },
        "outputId": "03421f9b-5d02-4517-9f41-aa3104a0963b"
      },
      "source": [
        "df.head()"
      ],
      "execution_count": 6,
      "outputs": [
        {
          "output_type": "execute_result",
          "data": {
            "text/html": [
              "<div>\n",
              "<style scoped>\n",
              "    .dataframe tbody tr th:only-of-type {\n",
              "        vertical-align: middle;\n",
              "    }\n",
              "\n",
              "    .dataframe tbody tr th {\n",
              "        vertical-align: top;\n",
              "    }\n",
              "\n",
              "    .dataframe thead th {\n",
              "        text-align: right;\n",
              "    }\n",
              "</style>\n",
              "<table border=\"1\" class=\"dataframe\">\n",
              "  <thead>\n",
              "    <tr style=\"text-align: right;\">\n",
              "      <th></th>\n",
              "      <th>sentence_source</th>\n",
              "      <th>label</th>\n",
              "      <th>label_notes</th>\n",
              "      <th>sentence</th>\n",
              "    </tr>\n",
              "  </thead>\n",
              "  <tbody>\n",
              "    <tr>\n",
              "      <th>0</th>\n",
              "      <td>gj04</td>\n",
              "      <td>1</td>\n",
              "      <td>NaN</td>\n",
              "      <td>The weights made the rope stretch over the pul...</td>\n",
              "    </tr>\n",
              "    <tr>\n",
              "      <th>1</th>\n",
              "      <td>gj04</td>\n",
              "      <td>1</td>\n",
              "      <td>NaN</td>\n",
              "      <td>The mechanical doll wriggled itself loose.</td>\n",
              "    </tr>\n",
              "    <tr>\n",
              "      <th>2</th>\n",
              "      <td>cj99</td>\n",
              "      <td>1</td>\n",
              "      <td>NaN</td>\n",
              "      <td>If you had eaten more, you would want less.</td>\n",
              "    </tr>\n",
              "    <tr>\n",
              "      <th>3</th>\n",
              "      <td>cj99</td>\n",
              "      <td>0</td>\n",
              "      <td>*</td>\n",
              "      <td>As you eat the most, you want the least.</td>\n",
              "    </tr>\n",
              "    <tr>\n",
              "      <th>4</th>\n",
              "      <td>cj99</td>\n",
              "      <td>0</td>\n",
              "      <td>*</td>\n",
              "      <td>The more you would want, the less you would eat.</td>\n",
              "    </tr>\n",
              "  </tbody>\n",
              "</table>\n",
              "</div>"
            ],
            "text/plain": [
              "  sentence_source  ...                                           sentence\n",
              "0            gj04  ...  The weights made the rope stretch over the pul...\n",
              "1            gj04  ...         The mechanical doll wriggled itself loose.\n",
              "2            cj99  ...        If you had eaten more, you would want less.\n",
              "3            cj99  ...           As you eat the most, you want the least.\n",
              "4            cj99  ...   The more you would want, the less you would eat.\n",
              "\n",
              "[5 rows x 4 columns]"
            ]
          },
          "metadata": {
            "tags": []
          },
          "execution_count": 6
        }
      ]
    },
    {
      "cell_type": "markdown",
      "metadata": {
        "id": "Vx6E02QhMtvI"
      },
      "source": [
        "The important two columns are the sentence column and the label column. A label of \"1\" means no grammar error, \"0\" means grammar error."
      ]
    },
    {
      "cell_type": "markdown",
      "metadata": {
        "id": "P_6YmbsfMS46"
      },
      "source": [
        "# Prepare Data for BERT Model"
      ]
    },
    {
      "cell_type": "markdown",
      "metadata": {
        "id": "2xCpxuzJNEME"
      },
      "source": [
        "The BERT model has some prequisites to work properly, we will implement them one by one below.\r\n",
        "\r\n",
        "First we create sentence and label lists, For BERT to work each sentence should have a \"CLS\" token before it and a \"SEP\" toekn after it. "
      ]
    },
    {
      "cell_type": "code",
      "metadata": {
        "id": "wjQgtilgQJ7z"
      },
      "source": [
        "sentences = df.sentence.values\r\n",
        "\r\n",
        "sentences = [\"[CLS] \" + sentence + \" [SEP]\" for sentence in sentences]\r\n",
        "labels = df.label.values"
      ],
      "execution_count": 7,
      "outputs": []
    },
    {
      "cell_type": "markdown",
      "metadata": {
        "id": "ljqGXGl-N_hE"
      },
      "source": [
        "BERT input is not simply the complete raw text, we first need to break the text down to small tokens, for that we use the BERT Tokenizer.\r\n",
        "\r\n",
        "Note that we are using the 'bert-base-uncased' model, this model will just ignore the case in the input text, we are using it and not the Bert-large model because it is smaller and a bit faster."
      ]
    },
    {
      "cell_type": "code",
      "metadata": {
        "id": "3Nd1IffLQJ-c",
        "colab": {
          "base_uri": "https://localhost:8080/"
        },
        "outputId": "3220b697-73a2-4b95-96b1-3f2f22e47eff"
      },
      "source": [
        "tokenizer = BertTokenizer.from_pretrained('bert-base-uncased', do_lower_case=True)\r\n",
        "\r\n",
        "tokenized_text = [tokenizer.tokenize(sentence) for sentence in sentences]\r\n",
        "print (\"First sentence raw:\")\r\n",
        "print(sentences[0])\r\n",
        "\r\n",
        "print (\"First sentence tokenized:\")\r\n",
        "print (tokenized_text[0])"
      ],
      "execution_count": 8,
      "outputs": [
        {
          "output_type": "stream",
          "text": [
            "100%|██████████| 231508/231508 [00:00<00:00, 20146791.93B/s]\n"
          ],
          "name": "stderr"
        },
        {
          "output_type": "stream",
          "text": [
            "First sentence raw:\n",
            "[CLS] The weights made the rope stretch over the pulley. [SEP]\n",
            "First sentence tokenized:\n",
            "['[CLS]', 'the', 'weights', 'made', 'the', 'rope', 'stretch', 'over', 'the', 'pull', '##ey', '.', '[SEP]']\n"
          ],
          "name": "stdout"
        }
      ]
    },
    {
      "cell_type": "markdown",
      "metadata": {
        "id": "NEIRfmqx9pyA"
      },
      "source": [
        "Let's find out the length of the longest sentence in the training set."
      ]
    },
    {
      "cell_type": "code",
      "metadata": {
        "id": "7KabsP0qQKBA",
        "colab": {
          "base_uri": "https://localhost:8080/"
        },
        "outputId": "5ff638b7-3f40-4ca4-945c-f755bceb9d20"
      },
      "source": [
        "df['word_count'] = df['sentence'].apply(lambda x : len(str(x).split(\" \")))\r\n",
        "# get id of longest sentence\r\n",
        "id_max = df['word_count'].idxmax()\r\n",
        "print('length of longest sengence: ', df['word_count'].iloc[id_max])\r\n",
        "# The longest tweet is 42 words long, let's use LENGTH_MAX = 64\r\n",
        "LENGTH_MAX = 64"
      ],
      "execution_count": 9,
      "outputs": [
        {
          "output_type": "stream",
          "text": [
            "length of longest sengence:  42\n"
          ],
          "name": "stdout"
        }
      ]
    },
    {
      "cell_type": "markdown",
      "metadata": {
        "id": "Nx-PcmHe-ecw"
      },
      "source": [
        "BERT model is trained with a certain vocabulary, in this vocaubulary each word has a number. The BERT model will not take the tokenized words as words, we need to convert them to the word's number in the BERT vocabularly. "
      ]
    },
    {
      "cell_type": "code",
      "metadata": {
        "id": "9QEmvF6xPAjL",
        "colab": {
          "base_uri": "https://localhost:8080/"
        },
        "outputId": "7a71e0b6-488f-4eed-c068-b5f920173a92"
      },
      "source": [
        "input_ids = [tokenizer.convert_tokens_to_ids(word) for word in tokenized_text]\r\n",
        "\r\n",
        "print('input_ids of the first sentence: ', input_ids[0])"
      ],
      "execution_count": 10,
      "outputs": [
        {
          "output_type": "stream",
          "text": [
            "input_ids of the first sentence:  [101, 1996, 15871, 2081, 1996, 8164, 7683, 2058, 1996, 4139, 3240, 1012, 102]\n"
          ],
          "name": "stdout"
        }
      ]
    },
    {
      "cell_type": "markdown",
      "metadata": {
        "id": "LU5ZoXFcBcjo"
      },
      "source": [
        "We pad the input sentences with 0s so that all the training sentences have the same length"
      ]
    },
    {
      "cell_type": "code",
      "metadata": {
        "id": "DMecrQL8PAlr",
        "colab": {
          "base_uri": "https://localhost:8080/"
        },
        "outputId": "a37b355e-954f-4c87-a337-46e427c57577"
      },
      "source": [
        "input_ids = pad_sequences(input_ids, maxlen=LENGTH_MAX, dtype=\"long\", truncating=\"post\", padding=\"post\")\r\n",
        "print('input_ids after padding: ', input_ids[0])"
      ],
      "execution_count": 11,
      "outputs": [
        {
          "output_type": "stream",
          "text": [
            "input_ids after padding:  [  101  1996 15871  2081  1996  8164  7683  2058  1996  4139  3240  1012\n",
            "   102     0     0     0     0     0     0     0     0     0     0     0\n",
            "     0     0     0     0     0     0     0     0     0     0     0     0\n",
            "     0     0     0     0     0     0     0     0     0     0     0     0\n",
            "     0     0     0     0     0     0     0     0     0     0     0     0\n",
            "     0     0     0     0]\n"
          ],
          "name": "stdout"
        }
      ]
    },
    {
      "cell_type": "markdown",
      "metadata": {
        "id": "H9VzV-tYBe4f"
      },
      "source": [
        "The BERT model requires an attention mask for eac input sentence. It is very simple, we just add a 1 for each word and 0 for the padding.\r\n"
      ]
    },
    {
      "cell_type": "code",
      "metadata": {
        "id": "maBa1DOQPAoo",
        "colab": {
          "base_uri": "https://localhost:8080/"
        },
        "outputId": "ac341e90-405a-4f38-fdcc-702022f8255e"
      },
      "source": [
        "attention_masks = []\r\n",
        "\r\n",
        "for word in input_ids:\r\n",
        "  word_mask = [float(i>0) for i in word]\r\n",
        "  attention_masks.append(word_mask)\r\n",
        "\r\n",
        "print('attention mask for the first training sentence: ', attention_masks[0])"
      ],
      "execution_count": 12,
      "outputs": [
        {
          "output_type": "stream",
          "text": [
            "attention mask for the first training sentence:  [1.0, 1.0, 1.0, 1.0, 1.0, 1.0, 1.0, 1.0, 1.0, 1.0, 1.0, 1.0, 1.0, 0.0, 0.0, 0.0, 0.0, 0.0, 0.0, 0.0, 0.0, 0.0, 0.0, 0.0, 0.0, 0.0, 0.0, 0.0, 0.0, 0.0, 0.0, 0.0, 0.0, 0.0, 0.0, 0.0, 0.0, 0.0, 0.0, 0.0, 0.0, 0.0, 0.0, 0.0, 0.0, 0.0, 0.0, 0.0, 0.0, 0.0, 0.0, 0.0, 0.0, 0.0, 0.0, 0.0, 0.0, 0.0, 0.0, 0.0, 0.0, 0.0, 0.0, 0.0]\n"
          ],
          "name": "stdout"
        }
      ]
    },
    {
      "cell_type": "markdown",
      "metadata": {
        "id": "W-tVkqvHBhTr"
      },
      "source": [
        "We normally split our data set to three sets, train dev and test. But here to get the maximum possible accuracy for our model, we will divide our data only to train and dev sets 90% and 10% respectively."
      ]
    },
    {
      "cell_type": "code",
      "metadata": {
        "id": "92MgA5MvPArH"
      },
      "source": [
        "train_inputs, validation_inputs, train_labels, validation_labels = train_test_split(input_ids, labels, random_state=1000, test_size=0.1)\r\n",
        "train_masks, validation_masks = train_test_split(attention_masks, random_state=1000, test_size=0.1)"
      ],
      "execution_count": 13,
      "outputs": []
    },
    {
      "cell_type": "code",
      "metadata": {
        "id": "5rso1cXlPAtk"
      },
      "source": [
        "# The BERT model needs the input to be tensors, so we do so :)\r\n",
        "\r\n",
        "train_inputs = torch.tensor(train_inputs)\r\n",
        "validation_inputs = torch.tensor(validation_inputs)\r\n",
        "\r\n",
        "train_labels = torch.tensor(train_labels)\r\n",
        "validation_labels = torch.tensor(validation_labels)\r\n",
        "\r\n",
        "train_masks = torch.tensor(train_masks)\r\n",
        "validation_masks = torch.tensor(validation_masks)"
      ],
      "execution_count": 14,
      "outputs": []
    },
    {
      "cell_type": "code",
      "metadata": {
        "id": "h1jifvSvPAwF"
      },
      "source": [
        "# In the original BERT paper section 4.1 the authors selected a batch size of 32 for fine tuning, so we also use the same value\r\n",
        "batch_size = 32\r\n",
        "\r\n",
        "# Create an iterator to supply the data on demand, this is better than for loop as it only supplies the data on demand ths saving memory.\r\n",
        "train_data = TensorDataset(train_inputs, train_masks, train_labels)\r\n",
        "train_sampler = RandomSampler(train_data)\r\n",
        "train_dataloader = DataLoader(train_data, sampler=train_sampler, batch_size=batch_size)\r\n",
        "\r\n",
        "validation_data = TensorDataset(validation_inputs, validation_masks, validation_labels)\r\n",
        "validation_sampler = SequentialSampler(validation_data)\r\n",
        "validation_dataloader = DataLoader(validation_data, sampler=validation_sampler, batch_size=batch_size)"
      ],
      "execution_count": 15,
      "outputs": []
    },
    {
      "cell_type": "code",
      "metadata": {
        "id": "ogRu8m5WPAzR",
        "colab": {
          "base_uri": "https://localhost:8080/"
        },
        "outputId": "ba99e250-cdf0-4de3-b25d-41183a0e4b51"
      },
      "source": [
        "# We create our model by importing the original BERT model and adding a layer of only 2 outputs on top o fit. \r\n",
        "#2 Outputs because we have 2 possibilities, grammar mistake detected or on \r\n",
        "model = BertForSequenceClassification.from_pretrained(\"bert-base-uncased\", num_labels=2)"
      ],
      "execution_count": 16,
      "outputs": [
        {
          "output_type": "stream",
          "text": [
            "100%|██████████| 407873900/407873900 [00:06<00:00, 63586203.61B/s]\n"
          ],
          "name": "stderr"
        }
      ]
    },
    {
      "cell_type": "code",
      "metadata": {
        "id": "T9b-hP53PA1X",
        "colab": {
          "base_uri": "https://localhost:8080/"
        },
        "outputId": "0ab03c75-5521-45e0-cefb-a29e30e1b082"
      },
      "source": [
        "#We create the optimizer, In the original BERT paper section 4.1 the authors recommended a learning rate among 5e-5, 4e-5, 3e-5, and 2e-5\r\n",
        "optimizer = BertAdam(model.parameters(),lr=2e-5,warmup=.1)"
      ],
      "execution_count": 17,
      "outputs": [
        {
          "output_type": "stream",
          "text": [
            "t_total value of -1 results in schedule not being applied\n"
          ],
          "name": "stderr"
        }
      ]
    },
    {
      "cell_type": "code",
      "metadata": {
        "id": "K7iLsxpKPA4U"
      },
      "source": [
        "# Method to calculate accuracy\r\n",
        "def calculate_accuracy(preds, labels):\r\n",
        "    pred_flat = np.argmax(preds, axis=1).flatten()\r\n",
        "    labels_flat = labels.flatten()\r\n",
        "    return np.sum(pred_flat == labels_flat) / len(labels_flat)"
      ],
      "execution_count": 18,
      "outputs": []
    },
    {
      "cell_type": "markdown",
      "metadata": {
        "id": "nsT3TnRARX-z"
      },
      "source": [
        "# Model training\r\n",
        "Now the final step is to train the model, or to be more accurate to fine tune it!\r\n",
        "\r\n",
        "In each epoch there are two steps training step and validation step."
      ]
    },
    {
      "cell_type": "code",
      "metadata": {
        "id": "rPCCt2dijSve"
      },
      "source": [
        "def training_step(history):\r\n",
        "  \r\n",
        "  # This step doesn't train the model, it just sets it to training mode.\r\n",
        "  model.train()\r\n",
        "  \r\n",
        "  training_loss = 0\r\n",
        "  \r\n",
        "  no_of_train_sentences = train_inputs.shape[0]\r\n",
        "\r\n",
        "  no_of_steps = math.ceil(no_of_train_sentences/batch_size)\r\n",
        "  steps_counter = 0;\r\n",
        "\r\n",
        "  # Training loop\r\n",
        "  for step, batch in enumerate(train_dataloader):\r\n",
        "\r\n",
        "    # load the inputs from the dataloader\r\n",
        "    b_input_ids, b_input_mask, b_labels = batch\r\n",
        "\r\n",
        "    # Clear out the gradients\r\n",
        "    optimizer.zero_grad()\r\n",
        "\r\n",
        "    # Forward pass\r\n",
        "    loss = model(b_input_ids, token_type_ids=None, attention_mask=b_input_mask, labels=b_labels)\r\n",
        "    history.append(loss.item())   \r\n",
        "\r\n",
        "    # Backward pass\r\n",
        "    loss.backward()\r\n",
        "\r\n",
        "    # Update parameters and take a step using the computed gradient\r\n",
        "    optimizer.step()\r\n",
        "        \r\n",
        "    training_loss += loss.item()\r\n",
        "    \r\n",
        "    steps_counter+=1\r\n",
        "\r\n",
        "    # Print the message only each 30 steps to avoid having too much logs\r\n",
        "    if (steps_counter%30 == 0):\r\n",
        "      print('training step ', steps_counter, 'of', str(no_of_steps),  'done!')\r\n",
        "    \r\n",
        "    \r\n",
        "  print(\"Training loss: \", (training_loss/no_of_steps))\r\n",
        "\r\n",
        "  return history"
      ],
      "execution_count": 19,
      "outputs": []
    },
    {
      "cell_type": "code",
      "metadata": {
        "id": "qhK7CViUj2Pt"
      },
      "source": [
        "def validation_step():\r\n",
        "\r\n",
        "  # This step doesn't evaluate the model, it just sets it to evaluation mode.\r\n",
        "  model.eval()\r\n",
        "\r\n",
        "  validation_accuracy = 0\r\n",
        "\r\n",
        "  no_of_validation_sentences = validation_inputs.shape[0]\r\n",
        "\r\n",
        "  no_of_steps = math.ceil(no_of_validation_sentences/batch_size)\r\n",
        "  steps_counter = 0;\r\n",
        "\r\n",
        "  #Validation loop\r\n",
        "  for batch in validation_dataloader:\r\n",
        "\r\n",
        "    # load the inputs from the dataloader\r\n",
        "    b_input_ids, b_input_mask, b_labels = batch\r\n",
        "    \r\n",
        "    # Telling the model not to compute or store gradients, saving memory and speeding up validation\r\n",
        "    with torch.no_grad():\r\n",
        "      # Forward pass, calculate logit predictions\r\n",
        "      logits = model(b_input_ids, token_type_ids=None, attention_mask=b_input_mask)\r\n",
        "    \r\n",
        "    logits = logits.numpy()\r\n",
        "    label_ids = b_labels.numpy()\r\n",
        "\r\n",
        "    validation_accuracy += calculate_accuracy(logits, label_ids)\r\n",
        "    \r\n",
        "    steps_counter+=1\r\n",
        "    \r\n",
        "    # Print the message only each 30 steps to avoid having too much logs\r\n",
        "    if (steps_counter%30 == 0):\r\n",
        "      print('validation step ', steps_counter, 'of', str(no_of_steps),  'done!')\r\n",
        "\r\n",
        "  print(\"Validation Accuracy: \", (validation_accuracy/no_of_steps))\r\n"
      ],
      "execution_count": 20,
      "outputs": []
    },
    {
      "cell_type": "code",
      "metadata": {
        "id": "hdVS7aYcPA7V",
        "colab": {
          "base_uri": "https://localhost:8080/"
        },
        "outputId": "4e278c8b-3a8f-4827-841b-9ec68d76bfd1"
      },
      "source": [
        "# Number of training epochs (The authors of the original paper recommends 2-4 epochs for fine tuning) \r\n",
        "epochs = 2\r\n",
        "\r\n",
        "# Store the training loss and accuracy for plotting\r\n",
        "history = []\r\n",
        "\r\n",
        "print()\r\n",
        "\r\n",
        "for i in range(epochs):\r\n",
        "  \r\n",
        "  history = training_step(history)\r\n",
        "  \r\n",
        "  validation_step()  \r\n",
        "\r\n",
        "  print('--> Epoch ', (i+1), ' of ', epochs, ' done')\r\n",
        "  print()"
      ],
      "execution_count": 21,
      "outputs": [
        {
          "output_type": "stream",
          "text": [
            "\n"
          ],
          "name": "stdout"
        },
        {
          "output_type": "stream",
          "text": [
            "/usr/local/lib/python3.6/dist-packages/pytorch_pretrained_bert/optimization.py:275: UserWarning: This overload of add_ is deprecated:\n",
            "\tadd_(Number alpha, Tensor other)\n",
            "Consider using one of the following signatures instead:\n",
            "\tadd_(Tensor other, *, Number alpha) (Triggered internally at  /pytorch/torch/csrc/utils/python_arg_parser.cpp:882.)\n",
            "  next_m.mul_(beta1).add_(1 - beta1, grad)\n"
          ],
          "name": "stderr"
        },
        {
          "output_type": "stream",
          "text": [
            "training step  30 of 270 done!\n",
            "training step  60 of 270 done!\n",
            "training step  90 of 270 done!\n",
            "training step  120 of 270 done!\n",
            "training step  150 of 270 done!\n",
            "training step  180 of 270 done!\n",
            "training step  210 of 270 done!\n",
            "training step  240 of 270 done!\n",
            "training step  270 of 270 done!\n",
            "Training loss:  0.4851789823836751\n",
            "validation step  30 of 30 done!\n",
            "Validation Accuracy:  0.7864583333333334\n",
            "--> Epoch  1  of  2  done\n",
            "\n",
            "training step  30 of 270 done!\n",
            "training step  60 of 270 done!\n",
            "training step  90 of 270 done!\n",
            "training step  120 of 270 done!\n",
            "training step  150 of 270 done!\n",
            "training step  180 of 270 done!\n",
            "training step  210 of 270 done!\n",
            "training step  240 of 270 done!\n",
            "training step  270 of 270 done!\n",
            "Training loss:  0.23408156263607519\n",
            "validation step  30 of 30 done!\n",
            "Validation Accuracy:  0.809375\n",
            "--> Epoch  2  of  2  done\n",
            "\n"
          ],
          "name": "stdout"
        }
      ]
    },
    {
      "cell_type": "markdown",
      "metadata": {
        "id": "rk2lSqh0WWTS"
      },
      "source": [
        "# Save the trained model\r\n",
        "Save the model so we can use it later for prediction."
      ]
    },
    {
      "cell_type": "code",
      "metadata": {
        "id": "OjalZkfxPA9-"
      },
      "source": [
        "torch.save(model, 'complete_model.pt')"
      ],
      "execution_count": 22,
      "outputs": []
    },
    {
      "cell_type": "markdown",
      "metadata": {
        "id": "AWo0G527WYPK"
      },
      "source": [
        "# Visualize the Training Process"
      ]
    },
    {
      "cell_type": "code",
      "metadata": {
        "id": "g1Dj6W68PPFO",
        "colab": {
          "base_uri": "https://localhost:8080/",
          "height": 513
        },
        "outputId": "45e1ba22-6851-4188-ab74-3d0ea4f062c0"
      },
      "source": [
        "plt.figure(figsize=(15,8))\r\n",
        "plt.title(\"Training loss\")\r\n",
        "plt.xlabel(\"Batch Number\")\r\n",
        "plt.ylabel(\"Training Loss\")\r\n",
        "plt.plot(history)\r\n",
        "plt.show()"
      ],
      "execution_count": 23,
      "outputs": [
        {
          "output_type": "display_data",
          "data": {
            "image/png": "[encoded data removed]",
            "text/plain": [
              "<Figure size 1080x576 with 1 Axes>"
            ]
          },
          "metadata": {
            "tags": [],
            "needs_background": "light"
          }
        }
      ]
    },
    {
      "cell_type": "markdown",
      "metadata": {
        "id": "RjRcR7S6lJYy"
      },
      "source": [
        "And that's it! \r\n",
        "\r\n",
        "Now we have trained our model to detect Grammar mistakes. \r\n",
        "\r\n",
        "I deployed this model in a web app, you can have a look here https://mostafa-portfolio.azurewebsites.net/ "
      ]
    }
  ]
}